{
 "cells": [
  {
   "cell_type": "code",
   "execution_count": 331,
   "metadata": {},
   "outputs": [],
   "source": [
    "import pandas as pd\n",
    "import numpy as np\n",
    "from sklearn.model_selection import train_test_split\n",
    "from sklearn.preprocessing import StandardScaler\n",
    "from sklearn.preprocessing import MinMaxScaler\n",
    "from sklearn.preprocessing import OneHotEncoder\n",
    "from sklearn.linear_model import LogisticRegression\n",
    "from sklearn.metrics import accuracy_score, classification_report, confusion_matrix\n",
    "from sklearn.model_selection import cross_val_score\n",
    "import pickle\n"
   ]
  },
  {
   "cell_type": "code",
   "execution_count": 332,
   "metadata": {},
   "outputs": [
    {
     "data": {
      "text/html": [
       "<div>\n",
       "<style scoped>\n",
       "    .dataframe tbody tr th:only-of-type {\n",
       "        vertical-align: middle;\n",
       "    }\n",
       "\n",
       "    .dataframe tbody tr th {\n",
       "        vertical-align: top;\n",
       "    }\n",
       "\n",
       "    .dataframe thead th {\n",
       "        text-align: right;\n",
       "    }\n",
       "</style>\n",
       "<table border=\"1\" class=\"dataframe\">\n",
       "  <thead>\n",
       "    <tr style=\"text-align: right;\">\n",
       "      <th></th>\n",
       "      <th>Age</th>\n",
       "      <th>Gender</th>\n",
       "      <th>SES</th>\n",
       "      <th>Hypertension</th>\n",
       "      <th>Heart_Disease</th>\n",
       "      <th>BMI</th>\n",
       "      <th>Avg_Glucose</th>\n",
       "      <th>Diabetes</th>\n",
       "      <th>Smoking_Status</th>\n",
       "      <th>Stroke</th>\n",
       "    </tr>\n",
       "  </thead>\n",
       "  <tbody>\n",
       "    <tr>\n",
       "      <th>0</th>\n",
       "      <td>66.788137</td>\n",
       "      <td>Male</td>\n",
       "      <td>Medium</td>\n",
       "      <td>1</td>\n",
       "      <td>0</td>\n",
       "      <td>25.842521</td>\n",
       "      <td>96.428681</td>\n",
       "      <td>1</td>\n",
       "      <td>Current</td>\n",
       "      <td>1</td>\n",
       "    </tr>\n",
       "    <tr>\n",
       "      <th>1</th>\n",
       "      <td>86.393609</td>\n",
       "      <td>Female</td>\n",
       "      <td>Medium</td>\n",
       "      <td>1</td>\n",
       "      <td>1</td>\n",
       "      <td>32.531061</td>\n",
       "      <td>133.350068</td>\n",
       "      <td>0</td>\n",
       "      <td>Never</td>\n",
       "      <td>1</td>\n",
       "    </tr>\n",
       "    <tr>\n",
       "      <th>2</th>\n",
       "      <td>76.158579</td>\n",
       "      <td>Female</td>\n",
       "      <td>Medium</td>\n",
       "      <td>1</td>\n",
       "      <td>0</td>\n",
       "      <td>40.681244</td>\n",
       "      <td>111.489589</td>\n",
       "      <td>0</td>\n",
       "      <td>Never</td>\n",
       "      <td>0</td>\n",
       "    </tr>\n",
       "    <tr>\n",
       "      <th>3</th>\n",
       "      <td>72.477870</td>\n",
       "      <td>Female</td>\n",
       "      <td>Low</td>\n",
       "      <td>0</td>\n",
       "      <td>1</td>\n",
       "      <td>33.003193</td>\n",
       "      <td>125.692465</td>\n",
       "      <td>0</td>\n",
       "      <td>Former</td>\n",
       "      <td>0</td>\n",
       "    </tr>\n",
       "    <tr>\n",
       "      <th>4</th>\n",
       "      <td>59.881635</td>\n",
       "      <td>Male</td>\n",
       "      <td>Low</td>\n",
       "      <td>0</td>\n",
       "      <td>0</td>\n",
       "      <td>26.062443</td>\n",
       "      <td>123.218486</td>\n",
       "      <td>1</td>\n",
       "      <td>Never</td>\n",
       "      <td>1</td>\n",
       "    </tr>\n",
       "  </tbody>\n",
       "</table>\n",
       "</div>"
      ],
      "text/plain": [
       "         Age  Gender     SES  Hypertension  Heart_Disease        BMI  \\\n",
       "0  66.788137    Male  Medium             1              0  25.842521   \n",
       "1  86.393609  Female  Medium             1              1  32.531061   \n",
       "2  76.158579  Female  Medium             1              0  40.681244   \n",
       "3  72.477870  Female     Low             0              1  33.003193   \n",
       "4  59.881635    Male     Low             0              0  26.062443   \n",
       "\n",
       "   Avg_Glucose  Diabetes Smoking_Status  Stroke  \n",
       "0    96.428681         1        Current       1  \n",
       "1   133.350068         0          Never       1  \n",
       "2   111.489589         0          Never       0  \n",
       "3   125.692465         0         Former       0  \n",
       "4   123.218486         1          Never       1  "
      ]
     },
     "execution_count": 332,
     "metadata": {},
     "output_type": "execute_result"
    }
   ],
   "source": [
    "data = pd.read_csv('/Users/abhinavbanerjee/code/aban371818/strokesense/strokesenseapp/data/stroke_data.csv')\n",
    "data.head()\n"
   ]
  },
  {
   "cell_type": "code",
   "execution_count": 333,
   "metadata": {},
   "outputs": [
    {
     "data": {
      "text/html": [
       "<div>\n",
       "<style scoped>\n",
       "    .dataframe tbody tr th:only-of-type {\n",
       "        vertical-align: middle;\n",
       "    }\n",
       "\n",
       "    .dataframe tbody tr th {\n",
       "        vertical-align: top;\n",
       "    }\n",
       "\n",
       "    .dataframe thead th {\n",
       "        text-align: right;\n",
       "    }\n",
       "</style>\n",
       "<table border=\"1\" class=\"dataframe\">\n",
       "  <thead>\n",
       "    <tr style=\"text-align: right;\">\n",
       "      <th></th>\n",
       "      <th>Age</th>\n",
       "      <th>Hypertension</th>\n",
       "      <th>Heart_Disease</th>\n",
       "      <th>BMI</th>\n",
       "      <th>Avg_Glucose</th>\n",
       "      <th>Diabetes</th>\n",
       "      <th>Stroke</th>\n",
       "    </tr>\n",
       "  </thead>\n",
       "  <tbody>\n",
       "    <tr>\n",
       "      <th>count</th>\n",
       "      <td>10000.000000</td>\n",
       "      <td>10000.000000</td>\n",
       "      <td>10000.000000</td>\n",
       "      <td>10000.000000</td>\n",
       "      <td>10000.000000</td>\n",
       "      <td>10000.000000</td>\n",
       "      <td>10000.000000</td>\n",
       "    </tr>\n",
       "    <tr>\n",
       "      <th>mean</th>\n",
       "      <td>69.757847</td>\n",
       "      <td>0.605800</td>\n",
       "      <td>0.302800</td>\n",
       "      <td>28.042252</td>\n",
       "      <td>109.115918</td>\n",
       "      <td>0.196000</td>\n",
       "      <td>0.297800</td>\n",
       "    </tr>\n",
       "    <tr>\n",
       "      <th>std</th>\n",
       "      <td>9.869468</td>\n",
       "      <td>0.488703</td>\n",
       "      <td>0.459492</td>\n",
       "      <td>4.901424</td>\n",
       "      <td>16.421142</td>\n",
       "      <td>0.396988</td>\n",
       "      <td>0.457314</td>\n",
       "    </tr>\n",
       "    <tr>\n",
       "      <th>min</th>\n",
       "      <td>27.706561</td>\n",
       "      <td>0.000000</td>\n",
       "      <td>0.000000</td>\n",
       "      <td>15.037988</td>\n",
       "      <td>45.569135</td>\n",
       "      <td>0.000000</td>\n",
       "      <td>0.000000</td>\n",
       "    </tr>\n",
       "    <tr>\n",
       "      <th>25%</th>\n",
       "      <td>63.128574</td>\n",
       "      <td>0.000000</td>\n",
       "      <td>0.000000</td>\n",
       "      <td>24.660786</td>\n",
       "      <td>98.188349</td>\n",
       "      <td>0.000000</td>\n",
       "      <td>0.000000</td>\n",
       "    </tr>\n",
       "    <tr>\n",
       "      <th>50%</th>\n",
       "      <td>69.796042</td>\n",
       "      <td>1.000000</td>\n",
       "      <td>0.000000</td>\n",
       "      <td>28.066932</td>\n",
       "      <td>109.022208</td>\n",
       "      <td>0.000000</td>\n",
       "      <td>0.000000</td>\n",
       "    </tr>\n",
       "    <tr>\n",
       "      <th>75%</th>\n",
       "      <td>76.402885</td>\n",
       "      <td>1.000000</td>\n",
       "      <td>1.000000</td>\n",
       "      <td>31.390170</td>\n",
       "      <td>120.341179</td>\n",
       "      <td>0.000000</td>\n",
       "      <td>1.000000</td>\n",
       "    </tr>\n",
       "    <tr>\n",
       "      <th>max</th>\n",
       "      <td>99.417448</td>\n",
       "      <td>1.000000</td>\n",
       "      <td>1.000000</td>\n",
       "      <td>47.495955</td>\n",
       "      <td>176.180688</td>\n",
       "      <td>1.000000</td>\n",
       "      <td>1.000000</td>\n",
       "    </tr>\n",
       "  </tbody>\n",
       "</table>\n",
       "</div>"
      ],
      "text/plain": [
       "                Age  Hypertension  Heart_Disease           BMI   Avg_Glucose  \\\n",
       "count  10000.000000  10000.000000   10000.000000  10000.000000  10000.000000   \n",
       "mean      69.757847      0.605800       0.302800     28.042252    109.115918   \n",
       "std        9.869468      0.488703       0.459492      4.901424     16.421142   \n",
       "min       27.706561      0.000000       0.000000     15.037988     45.569135   \n",
       "25%       63.128574      0.000000       0.000000     24.660786     98.188349   \n",
       "50%       69.796042      1.000000       0.000000     28.066932    109.022208   \n",
       "75%       76.402885      1.000000       1.000000     31.390170    120.341179   \n",
       "max       99.417448      1.000000       1.000000     47.495955    176.180688   \n",
       "\n",
       "           Diabetes        Stroke  \n",
       "count  10000.000000  10000.000000  \n",
       "mean       0.196000      0.297800  \n",
       "std        0.396988      0.457314  \n",
       "min        0.000000      0.000000  \n",
       "25%        0.000000      0.000000  \n",
       "50%        0.000000      0.000000  \n",
       "75%        0.000000      1.000000  \n",
       "max        1.000000      1.000000  "
      ]
     },
     "execution_count": 333,
     "metadata": {},
     "output_type": "execute_result"
    }
   ],
   "source": [
    "data.describe()"
   ]
  },
  {
   "cell_type": "markdown",
   "metadata": {},
   "source": [
    "# Features to be encoded"
   ]
  },
  {
   "cell_type": "code",
   "execution_count": 334,
   "metadata": {},
   "outputs": [
    {
     "data": {
      "text/plain": [
       "Never      5951\n",
       "Current    2062\n",
       "Former     1987\n",
       "Name: Smoking_Status, dtype: int64"
      ]
     },
     "execution_count": 334,
     "metadata": {},
     "output_type": "execute_result"
    }
   ],
   "source": [
    "data.Smoking_Status.value_counts()"
   ]
  },
  {
   "cell_type": "code",
   "execution_count": 335,
   "metadata": {},
   "outputs": [
    {
     "data": {
      "text/plain": [
       "Medium    5106\n",
       "Low       2870\n",
       "High      2024\n",
       "Name: SES, dtype: int64"
      ]
     },
     "execution_count": 335,
     "metadata": {},
     "output_type": "execute_result"
    }
   ],
   "source": [
    "data.SES.value_counts()"
   ]
  },
  {
   "cell_type": "code",
   "execution_count": 336,
   "metadata": {},
   "outputs": [
    {
     "data": {
      "text/plain": [
       "Female    5037\n",
       "Male      4963\n",
       "Name: Gender, dtype: int64"
      ]
     },
     "execution_count": 336,
     "metadata": {},
     "output_type": "execute_result"
    }
   ],
   "source": [
    "data.Gender.value_counts()"
   ]
  },
  {
   "cell_type": "markdown",
   "metadata": {},
   "source": [
    "# Encoding Categorical Features"
   ]
  },
  {
   "cell_type": "code",
   "execution_count": 337,
   "metadata": {},
   "outputs": [
    {
     "data": {
      "text/html": [
       "<div>\n",
       "<style scoped>\n",
       "    .dataframe tbody tr th:only-of-type {\n",
       "        vertical-align: middle;\n",
       "    }\n",
       "\n",
       "    .dataframe tbody tr th {\n",
       "        vertical-align: top;\n",
       "    }\n",
       "\n",
       "    .dataframe thead th {\n",
       "        text-align: right;\n",
       "    }\n",
       "</style>\n",
       "<table border=\"1\" class=\"dataframe\">\n",
       "  <thead>\n",
       "    <tr style=\"text-align: right;\">\n",
       "      <th></th>\n",
       "      <th>Smoking_Status_Current</th>\n",
       "      <th>Smoking_Status_Former</th>\n",
       "      <th>Smoking_Status_Never</th>\n",
       "      <th>SES_High</th>\n",
       "      <th>SES_Low</th>\n",
       "      <th>SES_Medium</th>\n",
       "      <th>Gender_Female</th>\n",
       "      <th>Gender_Male</th>\n",
       "    </tr>\n",
       "  </thead>\n",
       "  <tbody>\n",
       "    <tr>\n",
       "      <th>0</th>\n",
       "      <td>1.0</td>\n",
       "      <td>0.0</td>\n",
       "      <td>0.0</td>\n",
       "      <td>0.0</td>\n",
       "      <td>0.0</td>\n",
       "      <td>1.0</td>\n",
       "      <td>0.0</td>\n",
       "      <td>1.0</td>\n",
       "    </tr>\n",
       "    <tr>\n",
       "      <th>1</th>\n",
       "      <td>0.0</td>\n",
       "      <td>0.0</td>\n",
       "      <td>1.0</td>\n",
       "      <td>0.0</td>\n",
       "      <td>0.0</td>\n",
       "      <td>1.0</td>\n",
       "      <td>1.0</td>\n",
       "      <td>0.0</td>\n",
       "    </tr>\n",
       "    <tr>\n",
       "      <th>2</th>\n",
       "      <td>0.0</td>\n",
       "      <td>0.0</td>\n",
       "      <td>1.0</td>\n",
       "      <td>0.0</td>\n",
       "      <td>0.0</td>\n",
       "      <td>1.0</td>\n",
       "      <td>1.0</td>\n",
       "      <td>0.0</td>\n",
       "    </tr>\n",
       "    <tr>\n",
       "      <th>3</th>\n",
       "      <td>0.0</td>\n",
       "      <td>1.0</td>\n",
       "      <td>0.0</td>\n",
       "      <td>0.0</td>\n",
       "      <td>1.0</td>\n",
       "      <td>0.0</td>\n",
       "      <td>1.0</td>\n",
       "      <td>0.0</td>\n",
       "    </tr>\n",
       "    <tr>\n",
       "      <th>4</th>\n",
       "      <td>0.0</td>\n",
       "      <td>0.0</td>\n",
       "      <td>1.0</td>\n",
       "      <td>0.0</td>\n",
       "      <td>1.0</td>\n",
       "      <td>0.0</td>\n",
       "      <td>0.0</td>\n",
       "      <td>1.0</td>\n",
       "    </tr>\n",
       "  </tbody>\n",
       "</table>\n",
       "</div>"
      ],
      "text/plain": [
       "   Smoking_Status_Current  Smoking_Status_Former  Smoking_Status_Never  \\\n",
       "0                     1.0                    0.0                   0.0   \n",
       "1                     0.0                    0.0                   1.0   \n",
       "2                     0.0                    0.0                   1.0   \n",
       "3                     0.0                    1.0                   0.0   \n",
       "4                     0.0                    0.0                   1.0   \n",
       "\n",
       "   SES_High  SES_Low  SES_Medium  Gender_Female  Gender_Male  \n",
       "0       0.0      0.0         1.0            0.0          1.0  \n",
       "1       0.0      0.0         1.0            1.0          0.0  \n",
       "2       0.0      0.0         1.0            1.0          0.0  \n",
       "3       0.0      1.0         0.0            1.0          0.0  \n",
       "4       0.0      1.0         0.0            0.0          1.0  "
      ]
     },
     "execution_count": 337,
     "metadata": {},
     "output_type": "execute_result"
    }
   ],
   "source": [
    "ohe = OneHotEncoder()\n",
    "categorical_features = ['Smoking_Status', 'SES', 'Gender']\n",
    "ohe_data = ohe.fit_transform(data[['Smoking_Status', 'SES', 'Gender']]).toarray()\n",
    "encoded_feature_names = ohe.get_feature_names_out(categorical_features)\n",
    "encoded_feature_names\n",
    "encoded_df = pd.DataFrame(ohe_data, columns=encoded_feature_names)\n",
    "encoded_df.head()\n"
   ]
  },
  {
   "cell_type": "markdown",
   "metadata": {},
   "source": []
  },
  {
   "cell_type": "code",
   "execution_count": 338,
   "metadata": {},
   "outputs": [
    {
     "data": {
      "text/html": [
       "<div>\n",
       "<style scoped>\n",
       "    .dataframe tbody tr th:only-of-type {\n",
       "        vertical-align: middle;\n",
       "    }\n",
       "\n",
       "    .dataframe tbody tr th {\n",
       "        vertical-align: top;\n",
       "    }\n",
       "\n",
       "    .dataframe thead th {\n",
       "        text-align: right;\n",
       "    }\n",
       "</style>\n",
       "<table border=\"1\" class=\"dataframe\">\n",
       "  <thead>\n",
       "    <tr style=\"text-align: right;\">\n",
       "      <th></th>\n",
       "      <th>Age</th>\n",
       "      <th>Gender</th>\n",
       "      <th>SES</th>\n",
       "      <th>Hypertension</th>\n",
       "      <th>Heart_Disease</th>\n",
       "      <th>BMI</th>\n",
       "      <th>Avg_Glucose</th>\n",
       "      <th>Diabetes</th>\n",
       "      <th>Smoking_Status</th>\n",
       "      <th>Stroke</th>\n",
       "      <th>Smoking_Status_Current</th>\n",
       "      <th>Smoking_Status_Former</th>\n",
       "      <th>Smoking_Status_Never</th>\n",
       "      <th>SES_High</th>\n",
       "      <th>SES_Low</th>\n",
       "      <th>SES_Medium</th>\n",
       "      <th>Gender_Female</th>\n",
       "      <th>Gender_Male</th>\n",
       "    </tr>\n",
       "  </thead>\n",
       "  <tbody>\n",
       "    <tr>\n",
       "      <th>0</th>\n",
       "      <td>66.788137</td>\n",
       "      <td>Male</td>\n",
       "      <td>Medium</td>\n",
       "      <td>1</td>\n",
       "      <td>0</td>\n",
       "      <td>25.842521</td>\n",
       "      <td>96.428681</td>\n",
       "      <td>1</td>\n",
       "      <td>Current</td>\n",
       "      <td>1</td>\n",
       "      <td>1.0</td>\n",
       "      <td>0.0</td>\n",
       "      <td>0.0</td>\n",
       "      <td>0.0</td>\n",
       "      <td>0.0</td>\n",
       "      <td>1.0</td>\n",
       "      <td>0.0</td>\n",
       "      <td>1.0</td>\n",
       "    </tr>\n",
       "    <tr>\n",
       "      <th>1</th>\n",
       "      <td>86.393609</td>\n",
       "      <td>Female</td>\n",
       "      <td>Medium</td>\n",
       "      <td>1</td>\n",
       "      <td>1</td>\n",
       "      <td>32.531061</td>\n",
       "      <td>133.350068</td>\n",
       "      <td>0</td>\n",
       "      <td>Never</td>\n",
       "      <td>1</td>\n",
       "      <td>0.0</td>\n",
       "      <td>0.0</td>\n",
       "      <td>1.0</td>\n",
       "      <td>0.0</td>\n",
       "      <td>0.0</td>\n",
       "      <td>1.0</td>\n",
       "      <td>1.0</td>\n",
       "      <td>0.0</td>\n",
       "    </tr>\n",
       "    <tr>\n",
       "      <th>2</th>\n",
       "      <td>76.158579</td>\n",
       "      <td>Female</td>\n",
       "      <td>Medium</td>\n",
       "      <td>1</td>\n",
       "      <td>0</td>\n",
       "      <td>40.681244</td>\n",
       "      <td>111.489589</td>\n",
       "      <td>0</td>\n",
       "      <td>Never</td>\n",
       "      <td>0</td>\n",
       "      <td>0.0</td>\n",
       "      <td>0.0</td>\n",
       "      <td>1.0</td>\n",
       "      <td>0.0</td>\n",
       "      <td>0.0</td>\n",
       "      <td>1.0</td>\n",
       "      <td>1.0</td>\n",
       "      <td>0.0</td>\n",
       "    </tr>\n",
       "    <tr>\n",
       "      <th>3</th>\n",
       "      <td>72.477870</td>\n",
       "      <td>Female</td>\n",
       "      <td>Low</td>\n",
       "      <td>0</td>\n",
       "      <td>1</td>\n",
       "      <td>33.003193</td>\n",
       "      <td>125.692465</td>\n",
       "      <td>0</td>\n",
       "      <td>Former</td>\n",
       "      <td>0</td>\n",
       "      <td>0.0</td>\n",
       "      <td>1.0</td>\n",
       "      <td>0.0</td>\n",
       "      <td>0.0</td>\n",
       "      <td>1.0</td>\n",
       "      <td>0.0</td>\n",
       "      <td>1.0</td>\n",
       "      <td>0.0</td>\n",
       "    </tr>\n",
       "    <tr>\n",
       "      <th>4</th>\n",
       "      <td>59.881635</td>\n",
       "      <td>Male</td>\n",
       "      <td>Low</td>\n",
       "      <td>0</td>\n",
       "      <td>0</td>\n",
       "      <td>26.062443</td>\n",
       "      <td>123.218486</td>\n",
       "      <td>1</td>\n",
       "      <td>Never</td>\n",
       "      <td>1</td>\n",
       "      <td>0.0</td>\n",
       "      <td>0.0</td>\n",
       "      <td>1.0</td>\n",
       "      <td>0.0</td>\n",
       "      <td>1.0</td>\n",
       "      <td>0.0</td>\n",
       "      <td>0.0</td>\n",
       "      <td>1.0</td>\n",
       "    </tr>\n",
       "  </tbody>\n",
       "</table>\n",
       "</div>"
      ],
      "text/plain": [
       "         Age  Gender     SES  Hypertension  Heart_Disease        BMI  \\\n",
       "0  66.788137    Male  Medium             1              0  25.842521   \n",
       "1  86.393609  Female  Medium             1              1  32.531061   \n",
       "2  76.158579  Female  Medium             1              0  40.681244   \n",
       "3  72.477870  Female     Low             0              1  33.003193   \n",
       "4  59.881635    Male     Low             0              0  26.062443   \n",
       "\n",
       "   Avg_Glucose  Diabetes Smoking_Status  Stroke  Smoking_Status_Current  \\\n",
       "0    96.428681         1        Current       1                     1.0   \n",
       "1   133.350068         0          Never       1                     0.0   \n",
       "2   111.489589         0          Never       0                     0.0   \n",
       "3   125.692465         0         Former       0                     0.0   \n",
       "4   123.218486         1          Never       1                     0.0   \n",
       "\n",
       "   Smoking_Status_Former  Smoking_Status_Never  SES_High  SES_Low  SES_Medium  \\\n",
       "0                    0.0                   0.0       0.0      0.0         1.0   \n",
       "1                    0.0                   1.0       0.0      0.0         1.0   \n",
       "2                    0.0                   1.0       0.0      0.0         1.0   \n",
       "3                    1.0                   0.0       0.0      1.0         0.0   \n",
       "4                    0.0                   1.0       0.0      1.0         0.0   \n",
       "\n",
       "   Gender_Female  Gender_Male  \n",
       "0            0.0          1.0  \n",
       "1            1.0          0.0  \n",
       "2            1.0          0.0  \n",
       "3            1.0          0.0  \n",
       "4            0.0          1.0  "
      ]
     },
     "execution_count": 338,
     "metadata": {},
     "output_type": "execute_result"
    }
   ],
   "source": [
    "data = pd.concat([data, encoded_df], axis=1)\n",
    "data.head()"
   ]
  },
  {
   "cell_type": "markdown",
   "metadata": {},
   "source": [
    "# Split dependent and target feature set"
   ]
  },
  {
   "cell_type": "code",
   "execution_count": 339,
   "metadata": {},
   "outputs": [],
   "source": [
    "# X = data.drop(['Stroke', 'Smoking_Status', 'SES', 'Gender'], axis=1)\n",
    "# y = data['Stroke']\n",
    "\n",
    "# # Split the data into training and testing sets\n",
    "# X_train, X_test, y_train, y_test = train_test_split(X, y, test_size=0.3, random_state=42)"
   ]
  },
  {
   "cell_type": "markdown",
   "metadata": {},
   "source": [
    "# Scaling of numeric features"
   ]
  },
  {
   "cell_type": "code",
   "execution_count": 340,
   "metadata": {},
   "outputs": [],
   "source": [
    "# scaler = StandardScaler()\n",
    "# X_train_scaled = scaler.fit_transform(X_train)\n",
    "# X_test_scaled = scaler.transform(X_test)"
   ]
  },
  {
   "cell_type": "markdown",
   "metadata": {},
   "source": [
    "# Training the LR model"
   ]
  },
  {
   "cell_type": "code",
   "execution_count": 341,
   "metadata": {},
   "outputs": [],
   "source": [
    "lreg = LogisticRegression()"
   ]
  },
  {
   "cell_type": "code",
   "execution_count": 342,
   "metadata": {},
   "outputs": [],
   "source": [
    "# lreg.fit(X_train_scaled, y_train)"
   ]
  },
  {
   "cell_type": "code",
   "execution_count": 343,
   "metadata": {},
   "outputs": [],
   "source": [
    "# lreg.score(X_test_scaled, y_test)"
   ]
  },
  {
   "cell_type": "code",
   "execution_count": 344,
   "metadata": {},
   "outputs": [],
   "source": [
    "# y_pred = lreg.predict(X_test_scaled)\n",
    "# cm = confusion_matrix(y_test, y_pred)\n",
    "# cm"
   ]
  },
  {
   "cell_type": "markdown",
   "metadata": {},
   "source": [
    "# Next Iteration with fewer features"
   ]
  },
  {
   "cell_type": "code",
   "execution_count": 345,
   "metadata": {},
   "outputs": [
    {
     "data": {
      "text/html": [
       "<div>\n",
       "<style scoped>\n",
       "    .dataframe tbody tr th:only-of-type {\n",
       "        vertical-align: middle;\n",
       "    }\n",
       "\n",
       "    .dataframe tbody tr th {\n",
       "        vertical-align: top;\n",
       "    }\n",
       "\n",
       "    .dataframe thead th {\n",
       "        text-align: right;\n",
       "    }\n",
       "</style>\n",
       "<table border=\"1\" class=\"dataframe\">\n",
       "  <thead>\n",
       "    <tr style=\"text-align: right;\">\n",
       "      <th></th>\n",
       "      <th>Age</th>\n",
       "      <th>Gender</th>\n",
       "      <th>SES</th>\n",
       "      <th>Hypertension</th>\n",
       "      <th>Heart_Disease</th>\n",
       "      <th>BMI</th>\n",
       "      <th>Avg_Glucose</th>\n",
       "      <th>Diabetes</th>\n",
       "      <th>Smoking_Status</th>\n",
       "      <th>Stroke</th>\n",
       "      <th>Smoking_Status_Current</th>\n",
       "      <th>Smoking_Status_Former</th>\n",
       "      <th>Smoking_Status_Never</th>\n",
       "      <th>SES_High</th>\n",
       "      <th>SES_Low</th>\n",
       "      <th>SES_Medium</th>\n",
       "      <th>Gender_Female</th>\n",
       "      <th>Gender_Male</th>\n",
       "    </tr>\n",
       "  </thead>\n",
       "  <tbody>\n",
       "    <tr>\n",
       "      <th>0</th>\n",
       "      <td>66.788137</td>\n",
       "      <td>Male</td>\n",
       "      <td>Medium</td>\n",
       "      <td>1</td>\n",
       "      <td>0</td>\n",
       "      <td>25.842521</td>\n",
       "      <td>96.428681</td>\n",
       "      <td>1</td>\n",
       "      <td>Current</td>\n",
       "      <td>1</td>\n",
       "      <td>1.0</td>\n",
       "      <td>0.0</td>\n",
       "      <td>0.0</td>\n",
       "      <td>0.0</td>\n",
       "      <td>0.0</td>\n",
       "      <td>1.0</td>\n",
       "      <td>0.0</td>\n",
       "      <td>1.0</td>\n",
       "    </tr>\n",
       "    <tr>\n",
       "      <th>1</th>\n",
       "      <td>86.393609</td>\n",
       "      <td>Female</td>\n",
       "      <td>Medium</td>\n",
       "      <td>1</td>\n",
       "      <td>1</td>\n",
       "      <td>32.531061</td>\n",
       "      <td>133.350068</td>\n",
       "      <td>0</td>\n",
       "      <td>Never</td>\n",
       "      <td>1</td>\n",
       "      <td>0.0</td>\n",
       "      <td>0.0</td>\n",
       "      <td>1.0</td>\n",
       "      <td>0.0</td>\n",
       "      <td>0.0</td>\n",
       "      <td>1.0</td>\n",
       "      <td>1.0</td>\n",
       "      <td>0.0</td>\n",
       "    </tr>\n",
       "    <tr>\n",
       "      <th>2</th>\n",
       "      <td>76.158579</td>\n",
       "      <td>Female</td>\n",
       "      <td>Medium</td>\n",
       "      <td>1</td>\n",
       "      <td>0</td>\n",
       "      <td>40.681244</td>\n",
       "      <td>111.489589</td>\n",
       "      <td>0</td>\n",
       "      <td>Never</td>\n",
       "      <td>0</td>\n",
       "      <td>0.0</td>\n",
       "      <td>0.0</td>\n",
       "      <td>1.0</td>\n",
       "      <td>0.0</td>\n",
       "      <td>0.0</td>\n",
       "      <td>1.0</td>\n",
       "      <td>1.0</td>\n",
       "      <td>0.0</td>\n",
       "    </tr>\n",
       "    <tr>\n",
       "      <th>3</th>\n",
       "      <td>72.477870</td>\n",
       "      <td>Female</td>\n",
       "      <td>Low</td>\n",
       "      <td>0</td>\n",
       "      <td>1</td>\n",
       "      <td>33.003193</td>\n",
       "      <td>125.692465</td>\n",
       "      <td>0</td>\n",
       "      <td>Former</td>\n",
       "      <td>0</td>\n",
       "      <td>0.0</td>\n",
       "      <td>1.0</td>\n",
       "      <td>0.0</td>\n",
       "      <td>0.0</td>\n",
       "      <td>1.0</td>\n",
       "      <td>0.0</td>\n",
       "      <td>1.0</td>\n",
       "      <td>0.0</td>\n",
       "    </tr>\n",
       "    <tr>\n",
       "      <th>4</th>\n",
       "      <td>59.881635</td>\n",
       "      <td>Male</td>\n",
       "      <td>Low</td>\n",
       "      <td>0</td>\n",
       "      <td>0</td>\n",
       "      <td>26.062443</td>\n",
       "      <td>123.218486</td>\n",
       "      <td>1</td>\n",
       "      <td>Never</td>\n",
       "      <td>1</td>\n",
       "      <td>0.0</td>\n",
       "      <td>0.0</td>\n",
       "      <td>1.0</td>\n",
       "      <td>0.0</td>\n",
       "      <td>1.0</td>\n",
       "      <td>0.0</td>\n",
       "      <td>0.0</td>\n",
       "      <td>1.0</td>\n",
       "    </tr>\n",
       "  </tbody>\n",
       "</table>\n",
       "</div>"
      ],
      "text/plain": [
       "         Age  Gender     SES  Hypertension  Heart_Disease        BMI  \\\n",
       "0  66.788137    Male  Medium             1              0  25.842521   \n",
       "1  86.393609  Female  Medium             1              1  32.531061   \n",
       "2  76.158579  Female  Medium             1              0  40.681244   \n",
       "3  72.477870  Female     Low             0              1  33.003193   \n",
       "4  59.881635    Male     Low             0              0  26.062443   \n",
       "\n",
       "   Avg_Glucose  Diabetes Smoking_Status  Stroke  Smoking_Status_Current  \\\n",
       "0    96.428681         1        Current       1                     1.0   \n",
       "1   133.350068         0          Never       1                     0.0   \n",
       "2   111.489589         0          Never       0                     0.0   \n",
       "3   125.692465         0         Former       0                     0.0   \n",
       "4   123.218486         1          Never       1                     0.0   \n",
       "\n",
       "   Smoking_Status_Former  Smoking_Status_Never  SES_High  SES_Low  SES_Medium  \\\n",
       "0                    0.0                   0.0       0.0      0.0         1.0   \n",
       "1                    0.0                   1.0       0.0      0.0         1.0   \n",
       "2                    0.0                   1.0       0.0      0.0         1.0   \n",
       "3                    1.0                   0.0       0.0      1.0         0.0   \n",
       "4                    0.0                   1.0       0.0      1.0         0.0   \n",
       "\n",
       "   Gender_Female  Gender_Male  \n",
       "0            0.0          1.0  \n",
       "1            1.0          0.0  \n",
       "2            1.0          0.0  \n",
       "3            1.0          0.0  \n",
       "4            0.0          1.0  "
      ]
     },
     "execution_count": 345,
     "metadata": {},
     "output_type": "execute_result"
    }
   ],
   "source": [
    "data.head()"
   ]
  },
  {
   "cell_type": "code",
   "execution_count": 346,
   "metadata": {},
   "outputs": [],
   "source": [
    "X1 = data.drop(['Smoking_Status', 'SES', 'Gender','Stroke',\n",
    "                'SES_High', 'SES_Low', 'SES_Medium',\n",
    "                'Gender_Female',\n",
    "                'Smoking_Status_Former', 'Smoking_Status_Never',\n",
    "                'Smoking_Status_Current'\n",
    "                ], axis=1)"
   ]
  },
  {
   "cell_type": "code",
   "execution_count": 347,
   "metadata": {},
   "outputs": [],
   "source": [
    "y1 = data['Stroke']"
   ]
  },
  {
   "cell_type": "code",
   "execution_count": 348,
   "metadata": {},
   "outputs": [
    {
     "data": {
      "text/plain": [
       "Index(['Age', 'Hypertension', 'Heart_Disease', 'BMI', 'Avg_Glucose',\n",
       "       'Diabetes', 'Gender_Male'],\n",
       "      dtype='object')"
      ]
     },
     "execution_count": 348,
     "metadata": {},
     "output_type": "execute_result"
    }
   ],
   "source": [
    "X1.head(1)\n",
    "X1.columns"
   ]
  },
  {
   "cell_type": "markdown",
   "metadata": {},
   "source": [
    "# Split the new feature set into train and test sets"
   ]
  },
  {
   "cell_type": "code",
   "execution_count": 349,
   "metadata": {},
   "outputs": [],
   "source": [
    "X1_train, X1_test, y1_train, y1_test = train_test_split(X1, y1, test_size=0.3, random_state=42)"
   ]
  },
  {
   "cell_type": "markdown",
   "metadata": {},
   "source": [
    "# Scale numeric features"
   ]
  },
  {
   "cell_type": "code",
   "execution_count": 350,
   "metadata": {},
   "outputs": [],
   "source": [
    "scaler = StandardScaler()\n",
    "X1_train_scaled = scaler.fit_transform(X1_train)\n",
    "X1_test_scaled = scaler.transform(X1_test)"
   ]
  },
  {
   "cell_type": "markdown",
   "metadata": {},
   "source": [
    "# Train the model with new features"
   ]
  },
  {
   "cell_type": "code",
   "execution_count": 351,
   "metadata": {},
   "outputs": [
    {
     "data": {
      "text/plain": [
       "0.792"
      ]
     },
     "execution_count": 351,
     "metadata": {},
     "output_type": "execute_result"
    }
   ],
   "source": [
    "lreg.fit(X1_train_scaled, y1_train)\n",
    "lreg.score(X1_test_scaled, y1_test)"
   ]
  },
  {
   "cell_type": "code",
   "execution_count": 352,
   "metadata": {},
   "outputs": [
    {
     "data": {
      "text/plain": [
       "array([[1867,  261],\n",
       "       [ 363,  509]])"
      ]
     },
     "execution_count": 352,
     "metadata": {},
     "output_type": "execute_result"
    }
   ],
   "source": [
    "y1_pred = lreg.predict(X1_test_scaled)\n",
    "cm1 = confusion_matrix(y1_test, y1_pred)\n",
    "cm1"
   ]
  },
  {
   "cell_type": "code",
   "execution_count": 353,
   "metadata": {},
   "outputs": [],
   "source": [
    "model_filename = '/Users/abhinavbanerjee/code/aban371818/strokesense/strokesenseapp/models/lreg_model.pkl'\n",
    "\n",
    "with open(model_filename, 'wb') as file:\n",
    "    pickle.dump(lreg, file)\n",
    "\n",
    "with open('/Users/abhinavbanerjee/code/aban371818/strokesense/strokesenseapp/models/scaler.pkl', 'wb') as file:\n",
    "    pickle.dump(scaler, file)"
   ]
  }
 ],
 "metadata": {
  "kernelspec": {
   "display_name": "lewagon",
   "language": "python",
   "name": "python3"
  },
  "language_info": {
   "codemirror_mode": {
    "name": "ipython",
    "version": 3
   },
   "file_extension": ".py",
   "mimetype": "text/x-python",
   "name": "python",
   "nbconvert_exporter": "python",
   "pygments_lexer": "ipython3",
   "version": "3.10.6"
  }
 },
 "nbformat": 4,
 "nbformat_minor": 2
}
